{
 "cells": [
  {
   "cell_type": "code",
   "execution_count": 2,
   "metadata": {},
   "outputs": [],
   "source": [
    "import pandas as pd \n",
    "import matplotlib.pyplot as plt \n",
    "import numpy as np \n",
    "import spacy"
   ]
  },
  {
   "cell_type": "code",
   "execution_count": 8,
   "metadata": {},
   "outputs": [],
   "source": [
    "import kaggle"
   ]
  },
  {
   "cell_type": "code",
   "execution_count": 9,
   "metadata": {},
   "outputs": [],
   "source": [
    "# ! kaggle datasets download \"shanegerami/ai-vs-human-text\""
   ]
  },
  {
   "cell_type": "code",
   "execution_count": 10,
   "metadata": {},
   "outputs": [],
   "source": [
    "# ! unzip \"/Users/athulkrishnavv/Desktop/AI vs human text/ai-vs-human-text.zip\""
   ]
  },
  {
   "cell_type": "code",
   "execution_count": 11,
   "metadata": {},
   "outputs": [],
   "source": [
    "df=pd.read_csv(\"/Users/athulkrishnavv/Desktop/ML&DL/AI vs human text/AI_Human.csv\")"
   ]
  },
  {
   "cell_type": "code",
   "execution_count": 12,
   "metadata": {},
   "outputs": [
    {
     "data": {
      "text/html": [
       "<div>\n",
       "<style scoped>\n",
       "    .dataframe tbody tr th:only-of-type {\n",
       "        vertical-align: middle;\n",
       "    }\n",
       "\n",
       "    .dataframe tbody tr th {\n",
       "        vertical-align: top;\n",
       "    }\n",
       "\n",
       "    .dataframe thead th {\n",
       "        text-align: right;\n",
       "    }\n",
       "</style>\n",
       "<table border=\"1\" class=\"dataframe\">\n",
       "  <thead>\n",
       "    <tr style=\"text-align: right;\">\n",
       "      <th></th>\n",
       "      <th>text</th>\n",
       "      <th>generated</th>\n",
       "    </tr>\n",
       "  </thead>\n",
       "  <tbody>\n",
       "    <tr>\n",
       "      <th>0</th>\n",
       "      <td>Cars. Cars have been around since they became ...</td>\n",
       "      <td>0.0</td>\n",
       "    </tr>\n",
       "    <tr>\n",
       "      <th>1</th>\n",
       "      <td>Transportation is a large necessity in most co...</td>\n",
       "      <td>0.0</td>\n",
       "    </tr>\n",
       "    <tr>\n",
       "      <th>2</th>\n",
       "      <td>\"America's love affair with it's vehicles seem...</td>\n",
       "      <td>0.0</td>\n",
       "    </tr>\n",
       "    <tr>\n",
       "      <th>3</th>\n",
       "      <td>How often do you ride in a car? Do you drive a...</td>\n",
       "      <td>0.0</td>\n",
       "    </tr>\n",
       "    <tr>\n",
       "      <th>4</th>\n",
       "      <td>Cars are a wonderful thing. They are perhaps o...</td>\n",
       "      <td>0.0</td>\n",
       "    </tr>\n",
       "  </tbody>\n",
       "</table>\n",
       "</div>"
      ],
      "text/plain": [
       "                                                text  generated\n",
       "0  Cars. Cars have been around since they became ...        0.0\n",
       "1  Transportation is a large necessity in most co...        0.0\n",
       "2  \"America's love affair with it's vehicles seem...        0.0\n",
       "3  How often do you ride in a car? Do you drive a...        0.0\n",
       "4  Cars are a wonderful thing. They are perhaps o...        0.0"
      ]
     },
     "execution_count": 12,
     "metadata": {},
     "output_type": "execute_result"
    }
   ],
   "source": [
    "df.head()"
   ]
  },
  {
   "cell_type": "code",
   "execution_count": 13,
   "metadata": {},
   "outputs": [
    {
     "data": {
      "text/plain": [
       "generated\n",
       "0.0    305797\n",
       "1.0    181438\n",
       "Name: count, dtype: int64"
      ]
     },
     "execution_count": 13,
     "metadata": {},
     "output_type": "execute_result"
    }
   ],
   "source": [
    "df.generated.value_counts()"
   ]
  },
  {
   "cell_type": "code",
   "execution_count": 14,
   "metadata": {},
   "outputs": [
    {
     "data": {
      "text/plain": [
       "text         0\n",
       "generated    0\n",
       "dtype: int64"
      ]
     },
     "execution_count": 14,
     "metadata": {},
     "output_type": "execute_result"
    }
   ],
   "source": [
    "df.isna().sum()"
   ]
  },
  {
   "cell_type": "code",
   "execution_count": 15,
   "metadata": {},
   "outputs": [
    {
     "data": {
      "text/plain": [
       "0"
      ]
     },
     "execution_count": 15,
     "metadata": {},
     "output_type": "execute_result"
    }
   ],
   "source": [
    "df.duplicated().sum()"
   ]
  },
  {
   "cell_type": "code",
   "execution_count": 16,
   "metadata": {},
   "outputs": [],
   "source": [
    "df_new=df.copy()"
   ]
  },
  {
   "cell_type": "code",
   "execution_count": 17,
   "metadata": {},
   "outputs": [
    {
     "data": {
      "text/plain": [
       "<Axes: title={'center': 'Value Counts'}, xlabel='Label', ylabel='Count'>"
      ]
     },
     "execution_count": 17,
     "metadata": {},
     "output_type": "execute_result"
    },
    {
     "data": {
      "image/png": "[encoded data removed]",
      "text/plain": [
       "<Figure size 640x480 with 1 Axes>"
      ]
     },
     "metadata": {},
     "output_type": "display_data"
    }
   ],
   "source": [
    "import seaborn as sns\n",
    "value_count=df.generated.value_counts().reset_index()\n",
    "value_count.columns=[\"Label\",\"Count\"]\n",
    "plt.title(\"Value Counts\")\n",
    "plt.xlabel(\"Label\")\n",
    "plt.ylabel(\"Count\")\n",
    "sns.barplot(x=\"Label\",y=\"Count\",data=value_count,color=\"skyblue\")"
   ]
  },
  {
   "cell_type": "code",
   "execution_count": 18,
   "metadata": {},
   "outputs": [
    {
     "name": "stdout",
     "output_type": "stream",
     "text": [
      "Total Texts: 487235\n",
      "Human Written Texts: 305797\n",
      "AI Generated Texts: 181438\n"
     ]
    }
   ],
   "source": [
    "print('Total Texts:', df['generated'].count())\n",
    "print('Human Written Texts:', (df['generated'] == 0.0).sum())\n",
    "print('AI Generated Texts:', (df['generated'] == 1.0).sum())"
   ]
  },
  {
   "cell_type": "code",
   "execution_count": 19,
   "metadata": {},
   "outputs": [],
   "source": [
    "def remove_tags(text):\n",
    "    tags = ['\\n', '\\'']\n",
    "    for tag in tags:\n",
    "        text = text.replace(tag, '')\n",
    "    \n",
    "    return text\n",
    "\n",
    "\n",
    "df['text'] = df['text'].apply(remove_tags)"
   ]
  },
  {
   "cell_type": "code",
   "execution_count": 20,
   "metadata": {},
   "outputs": [
    {
     "data": {
      "text/plain": [
       "'Cars are a wonderful thing. They are perhaps one of the worlds greatest advancements and technologies. Cars get us from point a to point i. That is exactly what we want isnt it? We as humans want to get from one place to anther as fast as possiile. Cars are a suitaile to do that. They get us across the city in a matter of minutes. Much faster than anyhting else we have. A train isnt going to get me across the city as fast as my car is and neither is a puilic ius, iut those other forms of transportation just might ie the way to go. Dont get me wrong, cars are an aisolutly amazing thing iut, mayie they just cause way to much stress, and mayie they hurt our environment in ways that we dont think they will. With a ius or a train you do not have to worry aiout washing your car or getting frustrated when stuck in a iad traffic jam on I4. Also there is not as much pollution in air hurting our environment. You might not think so, iut there are many advantages to limiting our car usage.One advantage that not only humans would ienefit from, iut also plants and animals is that there would ie a lot less pollution in the air hurting out environment. Right now our cars give off gases that are extremely harmful towards our environment. These gases are called green house gases and come out of the exhaust pipes in our cars. Your car alone docent give off much gas iut collectively, our cars give off enormous amounts of gases. This is especially true in iig cities like France. In France, their pollution level was so high it was record ireaking. due to that france decided to enforce a partial ian on cars. This is descriied in the second article \" Paris ians driving due to smog\", iy Roiert Duffer, \" On Monday motorists with evennumiered license plates were orderd to leave their cars at home or suffer a 22euro fine 31. The same would apply to oddnumiered plates the following day.\" After France limited driving there congestion was down iy 60 percent. \" Congestion was down 60 percent in the capital of France\". So after five days of intense smog, 60 percent of it was clear after not using cars for only a little while. Even across the world in Bogota, columiia they are limiting driving and reducing smog levels. In the third article \"carfree day is spinning into a iig hit in Bogota\", iy Andrew Selsky, it descriies the annual carfree day they have to reduce smog. \" the goal is to promote alternative transportation and reduce smog\". So all over the world people are relizing that without cars, we are insuring the safety and well ieing of our environment.The second advantage that would come with limiting car use is less stress. Everyone knows that driving a car causes emence amounts of stress. Getting caught in traffic is a major cause of stress in someones life. having to repeating wash your car just to get it dirt again causes stress. Having people in the iack of your car screaming and yelling all while music is ilasting, causes stress. So oiviously driving causes stress. If we were to limit our car usage we would not ie as stressed as we usually are. There would ie no traffic, no car washes and no one screaming in a small confineded space. In the first article \" In German Suiuri, life goes on without cars\", iy Elisaieth Rosenthal, a citizen named humdrum Walter, states \" When i had a car i was always tense. Im much happier this way\". So with out the stress of a car humdrum Walter is a looser and happier person, less stress equals happier person. In the third article, \" Carfree dai is spinning into a iig hit in Bogota\", iy Andrew Selsky, it states \" Its a good opportunity to take away stress...\". If we have the opportunity to take away stress, why not take it. It is a huge advantage in our lives to limit driving if it takes away stress. No one wants stress, no one needs stress, and if we have an opportunity to take some of the stress away, take that opportunity.In conclusion, there are many advantages to limiting car use, one ieing theat we get to help the environment and two ieing that it helps reduce stress. Our environment is already screwed up in so many ways, if we can help it to iecome the healthy environment it once was, then do it. Stress is proven to impare your personal health, no one wants to ie unhealthy and no one wants stress in their life. If you want the environment to get ietter and you want to reduce stress in your life then take this advantage and impliment it. Some might not think that this is an advantage, iut i just explained that it is a clear advantege that has ieen proved to help the enviornment and reduce stress. Limiting car use is a very effective advantage that really does work in more than one place.'"
      ]
     },
     "execution_count": 20,
     "metadata": {},
     "output_type": "execute_result"
    }
   ],
   "source": [
    "df.text[4]\n",
    "# human text example"
   ]
  },
  {
   "cell_type": "code",
   "execution_count": 21,
   "metadata": {},
   "outputs": [
    {
     "data": {
      "text/plain": [
       "'Limiting car usage has numerous advantages, both for individuals and for the environment. The passages provided highlight the benefits of car-free communities, driving bans, and car-free days, all of which contribute to a more sustainable and efficient future.One advantage of limiting car usage is the reduction in greenhouse gas emissions. Cars are a significant source of emissions, contributing to climate change and air pollution. According to the passage, passenger cars are responsible for 12 percent of greenhouse gas emissions in Europe and up to 50 percent in some car-intensive areas in the United States. By limiting car usage, we can significantly reduce these emissions and work towards a cleaner and healthier environment.Car-free communities, such as Vauban in Germany, offer a model for a more sustainable way of living. These communities prioritize walking, cycling, and public transportation, and discourage car ownership. The passage states that 70 percent of Vaubans families do not own cars, and 57 percent sold a car to move there. The residents of Vauban have experienced improved quality of life and reduced stress levels without cars. This suggests that limiting car usage can lead to a more peaceful and enjoyable community.Another advantage of limiting car usage is the reduction in traffic congestion. The passages highlight how driving bans, such as the one implemented in Paris, can significantly reduce congestion. In Paris, congestion decreased by 60 percent after the ban was enforced. This reduction in traffic congestion not only improves air quality but also saves time for commuters. With fewer cars on the road, public transportation becomes more efficient, allowing for faster travel times and a smoother flow of traffic.In addition to these benefits, limiting car usage can also lead to healthier and more active communities. Car-free days, such as the one in Bogota, Colombia, encourage people to walk, bike, or use public transportation. These alternative modes of transportation promote physical activity, which is essential for maintaining a healthy lifestyle. The passage mentions how millions of Colombians participated in the car-free day and left the streets devoid of traffic jams. This shows that there is a willingness among people to embrace alternative modes of transportation and prioritize their health.Overall, limiting car usage has numerous advantages, including the reduction of greenhouse gas emissions, improved quality of life, reduced traffic congestion, and healthier communities. The examples provided in the passages demonstrate the success and feasibility of implementing car-free initiatives. As a society, it is important to prioritize sustainable transportation options and work towards a future that is less dependent on cars.'"
      ]
     },
     "execution_count": 21,
     "metadata": {},
     "output_type": "execute_result"
    }
   ],
   "source": [
    "df[\"text\"][df[\"generated\"]==1].iloc[77]\n",
    "# AI generated text example"
   ]
  },
  {
   "cell_type": "code",
   "execution_count": 22,
   "metadata": {},
   "outputs": [],
   "source": [
    "# !python3 -m spacy download en_core_web_md"
   ]
  },
  {
   "cell_type": "code",
   "execution_count": 30,
   "metadata": {},
   "outputs": [],
   "source": [
    "nlp=spacy.load(\"en_core_web_md\")"
   ]
  },
  {
   "cell_type": "code",
   "execution_count": 29,
   "metadata": {},
   "outputs": [],
   "source": [
    "def preprocessor(text):\n",
    "    text = text.lower() \n",
    "    doc = nlp(text)\n",
    "    processed_text = \" \".join([token.text for token in doc])\n",
    "    word_count = len([token for token in doc if not token.is_punct])\n",
    "    sentence_count = len(list(doc.sents))\n",
    "    avg_word_length = (\n",
    "        sum(len(token.text) for token in doc if not token.is_punct) / word_count\n",
    "        if word_count > 0 else 0\n",
    "    )\n",
    "    punctuation_count = len([token for token in doc if token.is_punct])\n",
    "    stop_word_count = len([token for token in doc if token.is_stop])\n",
    "    unique_word_count = len(set(token.text for token in doc if not token.is_punct))\n",
    "    lexical_diversity = unique_word_count / word_count if word_count > 0 else 0\n",
    "    return {\n",
    "        'processed_text': processed_text,\n",
    "        'word_count': word_count,\n",
    "        'sentence_count': sentence_count,\n",
    "        'avg_word_length': avg_word_length,\n",
    "        'punctuation_count': punctuation_count,\n",
    "        'stop_word_count': stop_word_count,\n",
    "        'unique_word_count': unique_word_count,\n",
    "        'lexical_diversity': lexical_diversity,\n",
    "    }"
   ]
  },
  {
   "cell_type": "code",
   "execution_count": 25,
   "metadata": {},
   "outputs": [
    {
     "name": "stdout",
     "output_type": "stream",
     "text": [
      "                                                text  generated  \\\n",
      "0  Cars. Cars have been around since they became ...        0.0   \n",
      "1  Transportation is a large necessity in most co...        0.0   \n",
      "2  \"Americas love affair with its vehicles seems ...        0.0   \n",
      "3  How often do you ride in a car? Do you drive a...        0.0   \n",
      "4  Cars are a wonderful thing. They are perhaps o...        0.0   \n",
      "\n",
      "                                      processed_text  word_count  \\\n",
      "0  cars . cars have been around since they became...         585   \n",
      "1  transportation is a large necessity in most co...         459   \n",
      "2  \" americas love affair with its vehicles seems...         741   \n",
      "3  how often do you ride in a car ? do you drive ...         693   \n",
      "4  cars are a wonderful thing . they are perhaps ...         865   \n",
      "\n",
      "   sentence_count  avg_word_length  punctuation_count  stop_word_count  \\\n",
      "0              20         4.497436                 67              286   \n",
      "1              23         4.821351                 55              232   \n",
      "2              44         4.836707                 89              388   \n",
      "3              45         4.624820                107              367   \n",
      "4              48         4.299422                100              465   \n",
      "\n",
      "   unique_word_count  lexical_diversity  \n",
      "0                274           0.468376  \n",
      "1                236           0.514161  \n",
      "2                322           0.434548  \n",
      "3                348           0.502165  \n",
      "4                323           0.373410  \n"
     ]
    }
   ],
   "source": [
    "\n",
    "df['processed_data'] = df['text'].apply(preprocessor)\n",
    "features = ['processed_text', 'word_count', 'sentence_count', 'avg_word_length', \n",
    "            'punctuation_count', 'stop_word_count', 'unique_word_count', 'lexical_diversity']\n",
    "\n",
    "for i in features:\n",
    "    df[i] = df['processed_data'].apply(lambda x: x[i])\n",
    "df = df.drop(columns=['processed_data']) \n",
    "print(df.head())"
   ]
  },
  {
   "cell_type": "code",
   "execution_count": 2,
   "metadata": {},
   "outputs": [],
   "source": [
    "# df.to_csv('processed.csv',index=False)\n"
   ]
  },
  {
   "cell_type": "code",
   "execution_count": 3,
   "metadata": {},
   "outputs": [],
   "source": [
    "df=pd.read_csv(\"/Users/athulkrishnavv/Desktop/ML&DL/AI vs human text/processed.csv\")"
   ]
  },
  {
   "cell_type": "code",
   "execution_count": 4,
   "metadata": {},
   "outputs": [
    {
     "data": {
      "text/html": [
       "<div>\n",
       "<style scoped>\n",
       "    .dataframe tbody tr th:only-of-type {\n",
       "        vertical-align: middle;\n",
       "    }\n",
       "\n",
       "    .dataframe tbody tr th {\n",
       "        vertical-align: top;\n",
       "    }\n",
       "\n",
       "    .dataframe thead th {\n",
       "        text-align: right;\n",
       "    }\n",
       "</style>\n",
       "<table border=\"1\" class=\"dataframe\">\n",
       "  <thead>\n",
       "    <tr style=\"text-align: right;\">\n",
       "      <th></th>\n",
       "      <th>text</th>\n",
       "      <th>generated</th>\n",
       "      <th>processed_text</th>\n",
       "      <th>word_count</th>\n",
       "      <th>sentence_count</th>\n",
       "      <th>avg_word_length</th>\n",
       "      <th>punctuation_count</th>\n",
       "      <th>stop_word_count</th>\n",
       "      <th>unique_word_count</th>\n",
       "      <th>lexical_diversity</th>\n",
       "    </tr>\n",
       "  </thead>\n",
       "  <tbody>\n",
       "    <tr>\n",
       "      <th>0</th>\n",
       "      <td>Cars. Cars have been around since they became ...</td>\n",
       "      <td>0.0</td>\n",
       "      <td>cars . cars have been around since they became...</td>\n",
       "      <td>585</td>\n",
       "      <td>20</td>\n",
       "      <td>4.497436</td>\n",
       "      <td>67</td>\n",
       "      <td>286</td>\n",
       "      <td>274</td>\n",
       "      <td>0.468376</td>\n",
       "    </tr>\n",
       "    <tr>\n",
       "      <th>1</th>\n",
       "      <td>Transportation is a large necessity in most co...</td>\n",
       "      <td>0.0</td>\n",
       "      <td>transportation is a large necessity in most co...</td>\n",
       "      <td>459</td>\n",
       "      <td>23</td>\n",
       "      <td>4.821351</td>\n",
       "      <td>55</td>\n",
       "      <td>232</td>\n",
       "      <td>236</td>\n",
       "      <td>0.514161</td>\n",
       "    </tr>\n",
       "    <tr>\n",
       "      <th>2</th>\n",
       "      <td>\"Americas love affair with its vehicles seems ...</td>\n",
       "      <td>0.0</td>\n",
       "      <td>\" americas love affair with its vehicles seems...</td>\n",
       "      <td>741</td>\n",
       "      <td>44</td>\n",
       "      <td>4.836707</td>\n",
       "      <td>89</td>\n",
       "      <td>388</td>\n",
       "      <td>322</td>\n",
       "      <td>0.434548</td>\n",
       "    </tr>\n",
       "    <tr>\n",
       "      <th>3</th>\n",
       "      <td>How often do you ride in a car? Do you drive a...</td>\n",
       "      <td>0.0</td>\n",
       "      <td>how often do you ride in a car ? do you drive ...</td>\n",
       "      <td>693</td>\n",
       "      <td>45</td>\n",
       "      <td>4.624820</td>\n",
       "      <td>107</td>\n",
       "      <td>367</td>\n",
       "      <td>348</td>\n",
       "      <td>0.502165</td>\n",
       "    </tr>\n",
       "    <tr>\n",
       "      <th>4</th>\n",
       "      <td>Cars are a wonderful thing. They are perhaps o...</td>\n",
       "      <td>0.0</td>\n",
       "      <td>cars are a wonderful thing . they are perhaps ...</td>\n",
       "      <td>865</td>\n",
       "      <td>48</td>\n",
       "      <td>4.299422</td>\n",
       "      <td>100</td>\n",
       "      <td>465</td>\n",
       "      <td>323</td>\n",
       "      <td>0.373410</td>\n",
       "    </tr>\n",
       "    <tr>\n",
       "      <th>...</th>\n",
       "      <td>...</td>\n",
       "      <td>...</td>\n",
       "      <td>...</td>\n",
       "      <td>...</td>\n",
       "      <td>...</td>\n",
       "      <td>...</td>\n",
       "      <td>...</td>\n",
       "      <td>...</td>\n",
       "      <td>...</td>\n",
       "      <td>...</td>\n",
       "    </tr>\n",
       "    <tr>\n",
       "      <th>487230</th>\n",
       "      <td>Tie Face on Mars is really just a big misunder...</td>\n",
       "      <td>0.0</td>\n",
       "      <td>tie face on mars is really just a big misunder...</td>\n",
       "      <td>191</td>\n",
       "      <td>10</td>\n",
       "      <td>3.979058</td>\n",
       "      <td>12</td>\n",
       "      <td>112</td>\n",
       "      <td>100</td>\n",
       "      <td>0.523560</td>\n",
       "    </tr>\n",
       "    <tr>\n",
       "      <th>487231</th>\n",
       "      <td>The whole purpose of democracy is to create a ...</td>\n",
       "      <td>0.0</td>\n",
       "      <td>the whole purpose of democracy is to create a ...</td>\n",
       "      <td>387</td>\n",
       "      <td>12</td>\n",
       "      <td>4.883721</td>\n",
       "      <td>42</td>\n",
       "      <td>216</td>\n",
       "      <td>185</td>\n",
       "      <td>0.478036</td>\n",
       "    </tr>\n",
       "    <tr>\n",
       "      <th>487232</th>\n",
       "      <td>I firmly believe that governments worldwide sh...</td>\n",
       "      <td>1.0</td>\n",
       "      <td>i firmly believe that governments worldwide sh...</td>\n",
       "      <td>358</td>\n",
       "      <td>12</td>\n",
       "      <td>5.519553</td>\n",
       "      <td>51</td>\n",
       "      <td>144</td>\n",
       "      <td>207</td>\n",
       "      <td>0.578212</td>\n",
       "    </tr>\n",
       "    <tr>\n",
       "      <th>487233</th>\n",
       "      <td>I DFNt agree with this decision because a LFT ...</td>\n",
       "      <td>0.0</td>\n",
       "      <td>i dfnt agree with this decision because a lft ...</td>\n",
       "      <td>338</td>\n",
       "      <td>17</td>\n",
       "      <td>3.863905</td>\n",
       "      <td>13</td>\n",
       "      <td>167</td>\n",
       "      <td>136</td>\n",
       "      <td>0.402367</td>\n",
       "    </tr>\n",
       "    <tr>\n",
       "      <th>487234</th>\n",
       "      <td>Richard Non, Jimmy Carter, and Bob Dole and ot...</td>\n",
       "      <td>0.0</td>\n",
       "      <td>richard non , jimmy carter , and bob dole and ...</td>\n",
       "      <td>348</td>\n",
       "      <td>13</td>\n",
       "      <td>4.612069</td>\n",
       "      <td>20</td>\n",
       "      <td>170</td>\n",
       "      <td>162</td>\n",
       "      <td>0.465517</td>\n",
       "    </tr>\n",
       "  </tbody>\n",
       "</table>\n",
       "<p>487235 rows × 10 columns</p>\n",
       "</div>"
      ],
      "text/plain": [
       "                                                     text  generated  \\\n",
       "0       Cars. Cars have been around since they became ...        0.0   \n",
       "1       Transportation is a large necessity in most co...        0.0   \n",
       "2       \"Americas love affair with its vehicles seems ...        0.0   \n",
       "3       How often do you ride in a car? Do you drive a...        0.0   \n",
       "4       Cars are a wonderful thing. They are perhaps o...        0.0   \n",
       "...                                                   ...        ...   \n",
       "487230  Tie Face on Mars is really just a big misunder...        0.0   \n",
       "487231  The whole purpose of democracy is to create a ...        0.0   \n",
       "487232  I firmly believe that governments worldwide sh...        1.0   \n",
       "487233  I DFNt agree with this decision because a LFT ...        0.0   \n",
       "487234  Richard Non, Jimmy Carter, and Bob Dole and ot...        0.0   \n",
       "\n",
       "                                           processed_text  word_count  \\\n",
       "0       cars . cars have been around since they became...         585   \n",
       "1       transportation is a large necessity in most co...         459   \n",
       "2       \" americas love affair with its vehicles seems...         741   \n",
       "3       how often do you ride in a car ? do you drive ...         693   \n",
       "4       cars are a wonderful thing . they are perhaps ...         865   \n",
       "...                                                   ...         ...   \n",
       "487230  tie face on mars is really just a big misunder...         191   \n",
       "487231  the whole purpose of democracy is to create a ...         387   \n",
       "487232  i firmly believe that governments worldwide sh...         358   \n",
       "487233  i dfnt agree with this decision because a lft ...         338   \n",
       "487234  richard non , jimmy carter , and bob dole and ...         348   \n",
       "\n",
       "        sentence_count  avg_word_length  punctuation_count  stop_word_count  \\\n",
       "0                   20         4.497436                 67              286   \n",
       "1                   23         4.821351                 55              232   \n",
       "2                   44         4.836707                 89              388   \n",
       "3                   45         4.624820                107              367   \n",
       "4                   48         4.299422                100              465   \n",
       "...                ...              ...                ...              ...   \n",
       "487230              10         3.979058                 12              112   \n",
       "487231              12         4.883721                 42              216   \n",
       "487232              12         5.519553                 51              144   \n",
       "487233              17         3.863905                 13              167   \n",
       "487234              13         4.612069                 20              170   \n",
       "\n",
       "        unique_word_count  lexical_diversity  \n",
       "0                     274           0.468376  \n",
       "1                     236           0.514161  \n",
       "2                     322           0.434548  \n",
       "3                     348           0.502165  \n",
       "4                     323           0.373410  \n",
       "...                   ...                ...  \n",
       "487230                100           0.523560  \n",
       "487231                185           0.478036  \n",
       "487232                207           0.578212  \n",
       "487233                136           0.402367  \n",
       "487234                162           0.465517  \n",
       "\n",
       "[487235 rows x 10 columns]"
      ]
     },
     "execution_count": 4,
     "metadata": {},
     "output_type": "execute_result"
    }
   ],
   "source": [
    "df"
   ]
  },
  {
   "cell_type": "code",
   "execution_count": 5,
   "metadata": {},
   "outputs": [
    {
     "name": "stdout",
     "output_type": "stream",
     "text": [
      "1\n",
      "processed_text\n",
      "<class 'str'>      487234\n",
      "<class 'float'>         1\n",
      "Name: count, dtype: int64\n"
     ]
    }
   ],
   "source": [
    "print(df['processed_text'].isnull().sum())  # Count missing values\n",
    "print(df['processed_text'].apply(type).value_counts())  # Check data types\n"
   ]
  },
  {
   "cell_type": "code",
   "execution_count": 6,
   "metadata": {},
   "outputs": [],
   "source": [
    "df.dropna(inplace=True)"
   ]
  },
  {
   "cell_type": "code",
   "execution_count": 7,
   "metadata": {},
   "outputs": [
    {
     "data": {
      "text/html": [
       "<div>\n",
       "<style scoped>\n",
       "    .dataframe tbody tr th:only-of-type {\n",
       "        vertical-align: middle;\n",
       "    }\n",
       "\n",
       "    .dataframe tbody tr th {\n",
       "        vertical-align: top;\n",
       "    }\n",
       "\n",
       "    .dataframe thead th {\n",
       "        text-align: right;\n",
       "    }\n",
       "</style>\n",
       "<table border=\"1\" class=\"dataframe\">\n",
       "  <thead>\n",
       "    <tr style=\"text-align: right;\">\n",
       "      <th></th>\n",
       "      <th>text</th>\n",
       "      <th>generated</th>\n",
       "      <th>processed_text</th>\n",
       "      <th>word_count</th>\n",
       "      <th>sentence_count</th>\n",
       "      <th>avg_word_length</th>\n",
       "      <th>punctuation_count</th>\n",
       "      <th>stop_word_count</th>\n",
       "      <th>unique_word_count</th>\n",
       "      <th>lexical_diversity</th>\n",
       "    </tr>\n",
       "  </thead>\n",
       "  <tbody>\n",
       "    <tr>\n",
       "      <th>0</th>\n",
       "      <td>Cars. Cars have been around since they became ...</td>\n",
       "      <td>0.0</td>\n",
       "      <td>cars . cars have been around since they became...</td>\n",
       "      <td>585</td>\n",
       "      <td>20</td>\n",
       "      <td>4.497436</td>\n",
       "      <td>67</td>\n",
       "      <td>286</td>\n",
       "      <td>274</td>\n",
       "      <td>0.468376</td>\n",
       "    </tr>\n",
       "    <tr>\n",
       "      <th>1</th>\n",
       "      <td>Transportation is a large necessity in most co...</td>\n",
       "      <td>0.0</td>\n",
       "      <td>transportation is a large necessity in most co...</td>\n",
       "      <td>459</td>\n",
       "      <td>23</td>\n",
       "      <td>4.821351</td>\n",
       "      <td>55</td>\n",
       "      <td>232</td>\n",
       "      <td>236</td>\n",
       "      <td>0.514161</td>\n",
       "    </tr>\n",
       "    <tr>\n",
       "      <th>2</th>\n",
       "      <td>\"Americas love affair with its vehicles seems ...</td>\n",
       "      <td>0.0</td>\n",
       "      <td>\" americas love affair with its vehicles seems...</td>\n",
       "      <td>741</td>\n",
       "      <td>44</td>\n",
       "      <td>4.836707</td>\n",
       "      <td>89</td>\n",
       "      <td>388</td>\n",
       "      <td>322</td>\n",
       "      <td>0.434548</td>\n",
       "    </tr>\n",
       "    <tr>\n",
       "      <th>3</th>\n",
       "      <td>How often do you ride in a car? Do you drive a...</td>\n",
       "      <td>0.0</td>\n",
       "      <td>how often do you ride in a car ? do you drive ...</td>\n",
       "      <td>693</td>\n",
       "      <td>45</td>\n",
       "      <td>4.624820</td>\n",
       "      <td>107</td>\n",
       "      <td>367</td>\n",
       "      <td>348</td>\n",
       "      <td>0.502165</td>\n",
       "    </tr>\n",
       "    <tr>\n",
       "      <th>4</th>\n",
       "      <td>Cars are a wonderful thing. They are perhaps o...</td>\n",
       "      <td>0.0</td>\n",
       "      <td>cars are a wonderful thing . they are perhaps ...</td>\n",
       "      <td>865</td>\n",
       "      <td>48</td>\n",
       "      <td>4.299422</td>\n",
       "      <td>100</td>\n",
       "      <td>465</td>\n",
       "      <td>323</td>\n",
       "      <td>0.373410</td>\n",
       "    </tr>\n",
       "    <tr>\n",
       "      <th>...</th>\n",
       "      <td>...</td>\n",
       "      <td>...</td>\n",
       "      <td>...</td>\n",
       "      <td>...</td>\n",
       "      <td>...</td>\n",
       "      <td>...</td>\n",
       "      <td>...</td>\n",
       "      <td>...</td>\n",
       "      <td>...</td>\n",
       "      <td>...</td>\n",
       "    </tr>\n",
       "    <tr>\n",
       "      <th>487229</th>\n",
       "      <td>Tie Face on Mars is really just a big misunder...</td>\n",
       "      <td>0.0</td>\n",
       "      <td>tie face on mars is really just a big misunder...</td>\n",
       "      <td>191</td>\n",
       "      <td>10</td>\n",
       "      <td>3.979058</td>\n",
       "      <td>12</td>\n",
       "      <td>112</td>\n",
       "      <td>100</td>\n",
       "      <td>0.523560</td>\n",
       "    </tr>\n",
       "    <tr>\n",
       "      <th>487230</th>\n",
       "      <td>The whole purpose of democracy is to create a ...</td>\n",
       "      <td>0.0</td>\n",
       "      <td>the whole purpose of democracy is to create a ...</td>\n",
       "      <td>387</td>\n",
       "      <td>12</td>\n",
       "      <td>4.883721</td>\n",
       "      <td>42</td>\n",
       "      <td>216</td>\n",
       "      <td>185</td>\n",
       "      <td>0.478036</td>\n",
       "    </tr>\n",
       "    <tr>\n",
       "      <th>487231</th>\n",
       "      <td>I firmly believe that governments worldwide sh...</td>\n",
       "      <td>1.0</td>\n",
       "      <td>i firmly believe that governments worldwide sh...</td>\n",
       "      <td>358</td>\n",
       "      <td>12</td>\n",
       "      <td>5.519553</td>\n",
       "      <td>51</td>\n",
       "      <td>144</td>\n",
       "      <td>207</td>\n",
       "      <td>0.578212</td>\n",
       "    </tr>\n",
       "    <tr>\n",
       "      <th>487232</th>\n",
       "      <td>I DFNt agree with this decision because a LFT ...</td>\n",
       "      <td>0.0</td>\n",
       "      <td>i dfnt agree with this decision because a lft ...</td>\n",
       "      <td>338</td>\n",
       "      <td>17</td>\n",
       "      <td>3.863905</td>\n",
       "      <td>13</td>\n",
       "      <td>167</td>\n",
       "      <td>136</td>\n",
       "      <td>0.402367</td>\n",
       "    </tr>\n",
       "    <tr>\n",
       "      <th>487233</th>\n",
       "      <td>Richard Non, Jimmy Carter, and Bob Dole and ot...</td>\n",
       "      <td>0.0</td>\n",
       "      <td>richard non , jimmy carter , and bob dole and ...</td>\n",
       "      <td>348</td>\n",
       "      <td>13</td>\n",
       "      <td>4.612069</td>\n",
       "      <td>20</td>\n",
       "      <td>170</td>\n",
       "      <td>162</td>\n",
       "      <td>0.465517</td>\n",
       "    </tr>\n",
       "  </tbody>\n",
       "</table>\n",
       "<p>487234 rows × 10 columns</p>\n",
       "</div>"
      ],
      "text/plain": [
       "                                                     text  generated  \\\n",
       "0       Cars. Cars have been around since they became ...        0.0   \n",
       "1       Transportation is a large necessity in most co...        0.0   \n",
       "2       \"Americas love affair with its vehicles seems ...        0.0   \n",
       "3       How often do you ride in a car? Do you drive a...        0.0   \n",
       "4       Cars are a wonderful thing. They are perhaps o...        0.0   \n",
       "...                                                   ...        ...   \n",
       "487229  Tie Face on Mars is really just a big misunder...        0.0   \n",
       "487230  The whole purpose of democracy is to create a ...        0.0   \n",
       "487231  I firmly believe that governments worldwide sh...        1.0   \n",
       "487232  I DFNt agree with this decision because a LFT ...        0.0   \n",
       "487233  Richard Non, Jimmy Carter, and Bob Dole and ot...        0.0   \n",
       "\n",
       "                                           processed_text  word_count  \\\n",
       "0       cars . cars have been around since they became...         585   \n",
       "1       transportation is a large necessity in most co...         459   \n",
       "2       \" americas love affair with its vehicles seems...         741   \n",
       "3       how often do you ride in a car ? do you drive ...         693   \n",
       "4       cars are a wonderful thing . they are perhaps ...         865   \n",
       "...                                                   ...         ...   \n",
       "487229  tie face on mars is really just a big misunder...         191   \n",
       "487230  the whole purpose of democracy is to create a ...         387   \n",
       "487231  i firmly believe that governments worldwide sh...         358   \n",
       "487232  i dfnt agree with this decision because a lft ...         338   \n",
       "487233  richard non , jimmy carter , and bob dole and ...         348   \n",
       "\n",
       "        sentence_count  avg_word_length  punctuation_count  stop_word_count  \\\n",
       "0                   20         4.497436                 67              286   \n",
       "1                   23         4.821351                 55              232   \n",
       "2                   44         4.836707                 89              388   \n",
       "3                   45         4.624820                107              367   \n",
       "4                   48         4.299422                100              465   \n",
       "...                ...              ...                ...              ...   \n",
       "487229              10         3.979058                 12              112   \n",
       "487230              12         4.883721                 42              216   \n",
       "487231              12         5.519553                 51              144   \n",
       "487232              17         3.863905                 13              167   \n",
       "487233              13         4.612069                 20              170   \n",
       "\n",
       "        unique_word_count  lexical_diversity  \n",
       "0                     274           0.468376  \n",
       "1                     236           0.514161  \n",
       "2                     322           0.434548  \n",
       "3                     348           0.502165  \n",
       "4                     323           0.373410  \n",
       "...                   ...                ...  \n",
       "487229                100           0.523560  \n",
       "487230                185           0.478036  \n",
       "487231                207           0.578212  \n",
       "487232                136           0.402367  \n",
       "487233                162           0.465517  \n",
       "\n",
       "[487234 rows x 10 columns]"
      ]
     },
     "execution_count": 7,
     "metadata": {},
     "output_type": "execute_result"
    }
   ],
   "source": [
    "df.reset_index(drop=True,inplace=True)\n",
    "df"
   ]
  },
  {
   "cell_type": "code",
   "execution_count": 8,
   "metadata": {},
   "outputs": [],
   "source": [
    "from sklearn.feature_extraction.text import TfidfVectorizer\n",
    "# TF-IDF for processed text\n",
    "vectorizer = TfidfVectorizer(max_features=1000)\n",
    "X_text = vectorizer.fit_transform(df['processed_text'])\n",
    "# Combine TF-IDF features with additional features\n",
    "X_features = df[['word_count', 'sentence_count', 'avg_word_length', \n",
    "                 'punctuation_count', 'stop_word_count', \n",
    "                 'unique_word_count', 'lexical_diversity']].values\n",
    "tfidf_df = pd.DataFrame(X_text.toarray(), columns=vectorizer.get_feature_names_out())\n",
    "\n",
    "# Convert additional features to a DataFrame\n",
    "additional_features_df = pd.DataFrame(X_features, columns=['word_count', 'sentence_count', 'avg_word_length',\n",
    "                                                            'punctuation_count', 'stop_word_count', \n",
    "                                                            'unique_word_count', 'lexical_diversity'])\n",
    "\n",
    "# Combine the two DataFrames\n",
    "X_combined_df = pd.concat([tfidf_df, additional_features_df], axis=1)\n",
    "\n",
    "# Target variable remains unchanged\n",
    "y = df['generated']"
   ]
  },
  {
   "cell_type": "code",
   "execution_count": 9,
   "metadata": {},
   "outputs": [
    {
     "name": "stderr",
     "output_type": "stream",
     "text": [
      "/Library/Frameworks/Python.framework/Versions/3.12/lib/python3.12/site-packages/sklearn/base.py:484: FutureWarning: `BaseEstimator._check_n_features` is deprecated in 1.6 and will be removed in 1.7. Use `sklearn.utils.validation._check_n_features` instead.\n",
      "  warnings.warn(\n",
      "/Library/Frameworks/Python.framework/Versions/3.12/lib/python3.12/site-packages/sklearn/base.py:493: FutureWarning: `BaseEstimator._check_feature_names` is deprecated in 1.6 and will be removed in 1.7. Use `sklearn.utils.validation._check_feature_names` instead.\n",
      "  warnings.warn(\n"
     ]
    },
    {
     "name": "stdout",
     "output_type": "stream",
     "text": [
      "Class distribution after oversampling:\n",
      "generated\n",
      "0.0    305797\n",
      "1.0    305797\n",
      "Name: count, dtype: int64\n"
     ]
    }
   ],
   "source": [
    "from imblearn.over_sampling import RandomOverSampler\n",
    "\n",
    "# Initialize RandomOverSampler\n",
    "ros = RandomOverSampler(random_state=42)\n",
    "\n",
    "# Oversample the data\n",
    "X_resampled, y_resampled = ros.fit_resample(X_combined_df, y)\n",
    "\n",
    "# Convert back to DataFrame (optional)\n",
    "X_resampled_df = pd.DataFrame(X_resampled, columns=X_combined_df.columns)\n",
    "y_resampled_df = pd.Series(y_resampled, name='generated')\n",
    "\n",
    "# Check the new class distribution\n",
    "print(\"Class distribution after oversampling:\")\n",
    "print(y_resampled_df.value_counts())"
   ]
  },
  {
   "cell_type": "code",
   "execution_count": 10,
   "metadata": {},
   "outputs": [
    {
     "data": {
      "text/plain": [
       "<Axes: title={'center': 'Value Counts'}, xlabel='Label', ylabel='Count'>"
      ]
     },
     "execution_count": 10,
     "metadata": {},
     "output_type": "execute_result"
    },
    {
     "data": {
      "image/png": "[encoded data removed]",
      "text/plain": [
       "<Figure size 640x480 with 1 Axes>"
      ]
     },
     "metadata": {},
     "output_type": "display_data"
    }
   ],
   "source": [
    "import seaborn as sns\n",
    "value_count=y_resampled_df.value_counts().reset_index()\n",
    "value_count.columns=[\"Label\",\"Count\"]\n",
    "plt.title(\"Value Counts\")\n",
    "plt.xlabel(\"Label\")\n",
    "plt.ylabel(\"Count\")\n",
    "sns.barplot(x=\"Label\",y=\"Count\",data=value_count,color=\"skyblue\")"
   ]
  },
  {
   "cell_type": "code",
   "execution_count": 11,
   "metadata": {},
   "outputs": [
    {
     "data": {
      "text/html": [
       "<div>\n",
       "<style scoped>\n",
       "    .dataframe tbody tr th:only-of-type {\n",
       "        vertical-align: middle;\n",
       "    }\n",
       "\n",
       "    .dataframe tbody tr th {\n",
       "        vertical-align: top;\n",
       "    }\n",
       "\n",
       "    .dataframe thead th {\n",
       "        text-align: right;\n",
       "    }\n",
       "</style>\n",
       "<table border=\"1\" class=\"dataframe\">\n",
       "  <thead>\n",
       "    <tr style=\"text-align: right;\">\n",
       "      <th></th>\n",
       "      <th>text</th>\n",
       "      <th>generated</th>\n",
       "      <th>processed_text</th>\n",
       "      <th>word_count</th>\n",
       "      <th>sentence_count</th>\n",
       "      <th>avg_word_length</th>\n",
       "      <th>punctuation_count</th>\n",
       "      <th>stop_word_count</th>\n",
       "      <th>unique_word_count</th>\n",
       "      <th>lexical_diversity</th>\n",
       "    </tr>\n",
       "  </thead>\n",
       "  <tbody>\n",
       "    <tr>\n",
       "      <th>0</th>\n",
       "      <td>Cars. Cars have been around since they became ...</td>\n",
       "      <td>0.0</td>\n",
       "      <td>cars . cars have been around since they became...</td>\n",
       "      <td>585</td>\n",
       "      <td>20</td>\n",
       "      <td>4.497436</td>\n",
       "      <td>67</td>\n",
       "      <td>286</td>\n",
       "      <td>274</td>\n",
       "      <td>0.468376</td>\n",
       "    </tr>\n",
       "    <tr>\n",
       "      <th>1</th>\n",
       "      <td>Transportation is a large necessity in most co...</td>\n",
       "      <td>0.0</td>\n",
       "      <td>transportation is a large necessity in most co...</td>\n",
       "      <td>459</td>\n",
       "      <td>23</td>\n",
       "      <td>4.821351</td>\n",
       "      <td>55</td>\n",
       "      <td>232</td>\n",
       "      <td>236</td>\n",
       "      <td>0.514161</td>\n",
       "    </tr>\n",
       "    <tr>\n",
       "      <th>2</th>\n",
       "      <td>\"Americas love affair with its vehicles seems ...</td>\n",
       "      <td>0.0</td>\n",
       "      <td>\" americas love affair with its vehicles seems...</td>\n",
       "      <td>741</td>\n",
       "      <td>44</td>\n",
       "      <td>4.836707</td>\n",
       "      <td>89</td>\n",
       "      <td>388</td>\n",
       "      <td>322</td>\n",
       "      <td>0.434548</td>\n",
       "    </tr>\n",
       "    <tr>\n",
       "      <th>3</th>\n",
       "      <td>How often do you ride in a car? Do you drive a...</td>\n",
       "      <td>0.0</td>\n",
       "      <td>how often do you ride in a car ? do you drive ...</td>\n",
       "      <td>693</td>\n",
       "      <td>45</td>\n",
       "      <td>4.624820</td>\n",
       "      <td>107</td>\n",
       "      <td>367</td>\n",
       "      <td>348</td>\n",
       "      <td>0.502165</td>\n",
       "    </tr>\n",
       "    <tr>\n",
       "      <th>4</th>\n",
       "      <td>Cars are a wonderful thing. They are perhaps o...</td>\n",
       "      <td>0.0</td>\n",
       "      <td>cars are a wonderful thing . they are perhaps ...</td>\n",
       "      <td>865</td>\n",
       "      <td>48</td>\n",
       "      <td>4.299422</td>\n",
       "      <td>100</td>\n",
       "      <td>465</td>\n",
       "      <td>323</td>\n",
       "      <td>0.373410</td>\n",
       "    </tr>\n",
       "    <tr>\n",
       "      <th>...</th>\n",
       "      <td>...</td>\n",
       "      <td>...</td>\n",
       "      <td>...</td>\n",
       "      <td>...</td>\n",
       "      <td>...</td>\n",
       "      <td>...</td>\n",
       "      <td>...</td>\n",
       "      <td>...</td>\n",
       "      <td>...</td>\n",
       "      <td>...</td>\n",
       "    </tr>\n",
       "    <tr>\n",
       "      <th>487229</th>\n",
       "      <td>Tie Face on Mars is really just a big misunder...</td>\n",
       "      <td>0.0</td>\n",
       "      <td>tie face on mars is really just a big misunder...</td>\n",
       "      <td>191</td>\n",
       "      <td>10</td>\n",
       "      <td>3.979058</td>\n",
       "      <td>12</td>\n",
       "      <td>112</td>\n",
       "      <td>100</td>\n",
       "      <td>0.523560</td>\n",
       "    </tr>\n",
       "    <tr>\n",
       "      <th>487230</th>\n",
       "      <td>The whole purpose of democracy is to create a ...</td>\n",
       "      <td>0.0</td>\n",
       "      <td>the whole purpose of democracy is to create a ...</td>\n",
       "      <td>387</td>\n",
       "      <td>12</td>\n",
       "      <td>4.883721</td>\n",
       "      <td>42</td>\n",
       "      <td>216</td>\n",
       "      <td>185</td>\n",
       "      <td>0.478036</td>\n",
       "    </tr>\n",
       "    <tr>\n",
       "      <th>487231</th>\n",
       "      <td>I firmly believe that governments worldwide sh...</td>\n",
       "      <td>1.0</td>\n",
       "      <td>i firmly believe that governments worldwide sh...</td>\n",
       "      <td>358</td>\n",
       "      <td>12</td>\n",
       "      <td>5.519553</td>\n",
       "      <td>51</td>\n",
       "      <td>144</td>\n",
       "      <td>207</td>\n",
       "      <td>0.578212</td>\n",
       "    </tr>\n",
       "    <tr>\n",
       "      <th>487232</th>\n",
       "      <td>I DFNt agree with this decision because a LFT ...</td>\n",
       "      <td>0.0</td>\n",
       "      <td>i dfnt agree with this decision because a lft ...</td>\n",
       "      <td>338</td>\n",
       "      <td>17</td>\n",
       "      <td>3.863905</td>\n",
       "      <td>13</td>\n",
       "      <td>167</td>\n",
       "      <td>136</td>\n",
       "      <td>0.402367</td>\n",
       "    </tr>\n",
       "    <tr>\n",
       "      <th>487233</th>\n",
       "      <td>Richard Non, Jimmy Carter, and Bob Dole and ot...</td>\n",
       "      <td>0.0</td>\n",
       "      <td>richard non , jimmy carter , and bob dole and ...</td>\n",
       "      <td>348</td>\n",
       "      <td>13</td>\n",
       "      <td>4.612069</td>\n",
       "      <td>20</td>\n",
       "      <td>170</td>\n",
       "      <td>162</td>\n",
       "      <td>0.465517</td>\n",
       "    </tr>\n",
       "  </tbody>\n",
       "</table>\n",
       "<p>487234 rows × 10 columns</p>\n",
       "</div>"
      ],
      "text/plain": [
       "                                                     text  generated  \\\n",
       "0       Cars. Cars have been around since they became ...        0.0   \n",
       "1       Transportation is a large necessity in most co...        0.0   \n",
       "2       \"Americas love affair with its vehicles seems ...        0.0   \n",
       "3       How often do you ride in a car? Do you drive a...        0.0   \n",
       "4       Cars are a wonderful thing. They are perhaps o...        0.0   \n",
       "...                                                   ...        ...   \n",
       "487229  Tie Face on Mars is really just a big misunder...        0.0   \n",
       "487230  The whole purpose of democracy is to create a ...        0.0   \n",
       "487231  I firmly believe that governments worldwide sh...        1.0   \n",
       "487232  I DFNt agree with this decision because a LFT ...        0.0   \n",
       "487233  Richard Non, Jimmy Carter, and Bob Dole and ot...        0.0   \n",
       "\n",
       "                                           processed_text  word_count  \\\n",
       "0       cars . cars have been around since they became...         585   \n",
       "1       transportation is a large necessity in most co...         459   \n",
       "2       \" americas love affair with its vehicles seems...         741   \n",
       "3       how often do you ride in a car ? do you drive ...         693   \n",
       "4       cars are a wonderful thing . they are perhaps ...         865   \n",
       "...                                                   ...         ...   \n",
       "487229  tie face on mars is really just a big misunder...         191   \n",
       "487230  the whole purpose of democracy is to create a ...         387   \n",
       "487231  i firmly believe that governments worldwide sh...         358   \n",
       "487232  i dfnt agree with this decision because a lft ...         338   \n",
       "487233  richard non , jimmy carter , and bob dole and ...         348   \n",
       "\n",
       "        sentence_count  avg_word_length  punctuation_count  stop_word_count  \\\n",
       "0                   20         4.497436                 67              286   \n",
       "1                   23         4.821351                 55              232   \n",
       "2                   44         4.836707                 89              388   \n",
       "3                   45         4.624820                107              367   \n",
       "4                   48         4.299422                100              465   \n",
       "...                ...              ...                ...              ...   \n",
       "487229              10         3.979058                 12              112   \n",
       "487230              12         4.883721                 42              216   \n",
       "487231              12         5.519553                 51              144   \n",
       "487232              17         3.863905                 13              167   \n",
       "487233              13         4.612069                 20              170   \n",
       "\n",
       "        unique_word_count  lexical_diversity  \n",
       "0                     274           0.468376  \n",
       "1                     236           0.514161  \n",
       "2                     322           0.434548  \n",
       "3                     348           0.502165  \n",
       "4                     323           0.373410  \n",
       "...                   ...                ...  \n",
       "487229                100           0.523560  \n",
       "487230                185           0.478036  \n",
       "487231                207           0.578212  \n",
       "487232                136           0.402367  \n",
       "487233                162           0.465517  \n",
       "\n",
       "[487234 rows x 10 columns]"
      ]
     },
     "execution_count": 11,
     "metadata": {},
     "output_type": "execute_result"
    }
   ],
   "source": [
    "df"
   ]
  },
  {
   "cell_type": "code",
   "execution_count": 12,
   "metadata": {},
   "outputs": [
    {
     "name": "stdout",
     "output_type": "stream",
     "text": [
      "          word_count                          \n",
      "                 min   max        mean   count\n",
      "generated                                     \n",
      "0.0               17  1680  422.875362  305797\n",
      "1.0                0  1240  342.614935  181437\n"
     ]
    }
   ],
   "source": [
    "res = df[['generated', 'word_count']].groupby('generated').agg(['min', 'max', 'mean', 'count'])\n",
    "res = res.sort_values(by=('word_count', 'mean'), ascending=False)\n",
    "print(res)"
   ]
  },
  {
   "cell_type": "code",
   "execution_count": 13,
   "metadata": {},
   "outputs": [
    {
     "name": "stdout",
     "output_type": "stream",
     "text": [
      "          word_count                          \n",
      "                 min   max        mean   count\n",
      "generated                                     \n",
      "0.0               17  1680  422.875362  305797\n",
      "1.0                0  1240  342.614935  181437\n",
      "__________________________________________\n",
      "          sentence_count                        \n",
      "                     min  max       mean   count\n",
      "generated                                       \n",
      "0.0                    1  158  17.763657  305797\n",
      "1.0                    1   74  14.704537  181437\n",
      "__________________________________________\n",
      "          avg_word_length                            \n",
      "                      min       max      mean   count\n",
      "generated                                            \n",
      "1.0              0.000000  63.75000  5.029928  181437\n",
      "0.0              2.589577  58.94702  4.435884  305797\n",
      "__________________________________________\n",
      "          punctuation_count                        \n",
      "                        min  max       mean   count\n",
      "generated                                          \n",
      "1.0                       0  246  38.136852  181437\n",
      "0.0                       0  285  38.079772  305797\n",
      "__________________________________________\n",
      "          stop_word_count                         \n",
      "                      min  max        mean   count\n",
      "generated                                         \n",
      "0.0                     7  989  235.066832  305797\n",
      "1.0                     0  554  167.235410  181437\n",
      "__________________________________________\n",
      "          unique_word_count                         \n",
      "                        min  max        mean   count\n",
      "generated                                           \n",
      "0.0                      14  619  178.850754  305797\n",
      "1.0                       0  574  159.991496  181437\n",
      "__________________________________________\n",
      "          lexical_diversity                            \n",
      "                        min       max      mean   count\n",
      "generated                                              \n",
      "1.0                0.000000  1.000000  0.480720  181437\n",
      "0.0                0.052536  0.823529  0.446718  305797\n",
      "__________________________________________\n"
     ]
    }
   ],
   "source": [
    "numerical_col=['word_count', 'sentence_count', 'avg_word_length','punctuation_count', 'stop_word_count', 'unique_word_count', 'lexical_diversity']\n",
    "for i in numerical_col:\n",
    "    res=df[['generated',i]].groupby('generated').agg(['min','max','mean','count'])\n",
    "    res=res.sort_values(by=(i,'mean'),ascending=False)\n",
    "    print(res)\n",
    "    print(\"__________________________________________\")\n",
    "\n",
    " "
   ]
  },
  {
   "cell_type": "code",
   "execution_count": 14,
   "metadata": {},
   "outputs": [
    {
     "name": "stderr",
     "output_type": "stream",
     "text": [
      "/var/folders/dr/y1cb750j3hg_wgfxyt1z_pym0000gn/T/ipykernel_3745/3790503832.py:15: FutureWarning: \n",
      "\n",
      "Passing `palette` without assigning `hue` is deprecated and will be removed in v0.14.0. Assign the `x` variable to `hue` and set `legend=False` for the same effect.\n",
      "\n",
      "  sns.barplot(data=df, x='generated', y=column, palette='viridis')\n"
     ]
    },
    {
     "data": {
      "image/png": "[encoded data removed]",
      "text/plain": [
       "<Figure size 800x500 with 1 Axes>"
      ]
     },
     "metadata": {},
     "output_type": "display_data"
    },
    {
     "name": "stderr",
     "output_type": "stream",
     "text": [
      "/var/folders/dr/y1cb750j3hg_wgfxyt1z_pym0000gn/T/ipykernel_3745/3790503832.py:15: FutureWarning: \n",
      "\n",
      "Passing `palette` without assigning `hue` is deprecated and will be removed in v0.14.0. Assign the `x` variable to `hue` and set `legend=False` for the same effect.\n",
      "\n",
      "  sns.barplot(data=df, x='generated', y=column, palette='viridis')\n"
     ]
    },
    {
     "data": {
      "image/png": "[encoded data removed]",
      "text/plain": [
       "<Figure size 800x500 with 1 Axes>"
      ]
     },
     "metadata": {},
     "output_type": "display_data"
    },
    {
     "name": "stderr",
     "output_type": "stream",
     "text": [
      "/var/folders/dr/y1cb750j3hg_wgfxyt1z_pym0000gn/T/ipykernel_3745/3790503832.py:15: FutureWarning: \n",
      "\n",
      "Passing `palette` without assigning `hue` is deprecated and will be removed in v0.14.0. Assign the `x` variable to `hue` and set `legend=False` for the same effect.\n",
      "\n",
      "  sns.barplot(data=df, x='generated', y=column, palette='viridis')\n"
     ]
    },
    {
     "data": {
      "image/png": "[encoded data removed]",
      "text/plain": [
       "<Figure size 800x500 with 1 Axes>"
      ]
     },
     "metadata": {},
     "output_type": "display_data"
    },
    {
     "name": "stderr",
     "output_type": "stream",
     "text": [
      "/var/folders/dr/y1cb750j3hg_wgfxyt1z_pym0000gn/T/ipykernel_3745/3790503832.py:15: FutureWarning: \n",
      "\n",
      "Passing `palette` without assigning `hue` is deprecated and will be removed in v0.14.0. Assign the `x` variable to `hue` and set `legend=False` for the same effect.\n",
      "\n",
      "  sns.barplot(data=df, x='generated', y=column, palette='viridis')\n"
     ]
    },
    {
     "data": {
      "image/png": "[encoded data removed]",
      "text/plain": [
       "<Figure size 800x500 with 1 Axes>"
      ]
     },
     "metadata": {},
     "output_type": "display_data"
    },
    {
     "name": "stderr",
     "output_type": "stream",
     "text": [
      "/var/folders/dr/y1cb750j3hg_wgfxyt1z_pym0000gn/T/ipykernel_3745/3790503832.py:15: FutureWarning: \n",
      "\n",
      "Passing `palette` without assigning `hue` is deprecated and will be removed in v0.14.0. Assign the `x` variable to `hue` and set `legend=False` for the same effect.\n",
      "\n",
      "  sns.barplot(data=df, x='generated', y=column, palette='viridis')\n"
     ]
    },
    {
     "data": {
      "image/png": "[encoded data removed]",
      "text/plain": [
       "<Figure size 800x500 with 1 Axes>"
      ]
     },
     "metadata": {},
     "output_type": "display_data"
    },
    {
     "name": "stderr",
     "output_type": "stream",
     "text": [
      "/var/folders/dr/y1cb750j3hg_wgfxyt1z_pym0000gn/T/ipykernel_3745/3790503832.py:15: FutureWarning: \n",
      "\n",
      "Passing `palette` without assigning `hue` is deprecated and will be removed in v0.14.0. Assign the `x` variable to `hue` and set `legend=False` for the same effect.\n",
      "\n",
      "  sns.barplot(data=df, x='generated', y=column, palette='viridis')\n"
     ]
    },
    {
     "data": {
      "image/png": "[encoded data removed]",
      "text/plain": [
       "<Figure size 800x500 with 1 Axes>"
      ]
     },
     "metadata": {},
     "output_type": "display_data"
    },
    {
     "name": "stderr",
     "output_type": "stream",
     "text": [
      "/var/folders/dr/y1cb750j3hg_wgfxyt1z_pym0000gn/T/ipykernel_3745/3790503832.py:15: FutureWarning: \n",
      "\n",
      "Passing `palette` without assigning `hue` is deprecated and will be removed in v0.14.0. Assign the `x` variable to `hue` and set `legend=False` for the same effect.\n",
      "\n",
      "  sns.barplot(data=df, x='generated', y=column, palette='viridis')\n"
     ]
    },
    {
     "data": {
      "image/png": "[encoded data removed]",
      "text/plain": [
       "<Figure size 800x500 with 1 Axes>"
      ]
     },
     "metadata": {},
     "output_type": "display_data"
    }
   ],
   "source": [
    "import pandas as pd\n",
    "import seaborn as sns\n",
    "import matplotlib.pyplot as plt\n",
    "\n",
    "# Numerical columns to analyze\n",
    "numerical_columns = [\n",
    "    'word_count', 'sentence_count', 'avg_word_length',\n",
    "    'punctuation_count', 'stop_word_count', \n",
    "    'unique_word_count', 'lexical_diversity'\n",
    "]\n",
    "\n",
    "# Create individual plots for each numerical column\n",
    "for column in numerical_columns:\n",
    "    plt.figure(figsize=(8, 5))\n",
    "    sns.barplot(data=df, x='generated', y=column, palette='viridis')\n",
    "    plt.title(f'{column.capitalize()} vs. Generated')\n",
    "    plt.xlabel('Generated')\n",
    "    plt.ylabel(column.capitalize())\n",
    "    plt.xticks(ticks=[0, 1], labels=['Human Generated', 'AI Generated'])\n",
    "    plt.tight_layout()\n",
    "    plt.show()"
   ]
  },
  {
   "cell_type": "code",
   "execution_count": 15,
   "metadata": {},
   "outputs": [],
   "source": [
    "from sklearn.model_selection import train_test_split\n",
    "x_train,x_test,y_train,y_test=train_test_split(X_resampled_df,y_resampled_df,test_size=0.3)"
   ]
  },
  {
   "cell_type": "code",
   "execution_count": 16,
   "metadata": {},
   "outputs": [],
   "source": [
    "from sklearn.neighbors import KNeighborsClassifier\n",
    "from sklearn.svm import SVC\n",
    "from sklearn.naive_bayes import MultinomialNB\n",
    "from sklearn.tree import DecisionTreeClassifier\n",
    "from sklearn.ensemble import RandomForestClassifier\n",
    "from sklearn.metrics import classification_report,accuracy_score"
   ]
  },
  {
   "cell_type": "code",
   "execution_count": null,
   "metadata": {},
   "outputs": [
    {
     "name": "stdout",
     "output_type": "stream",
     "text": [
      "KNeighborsClassifier()\n",
      "              precision    recall  f1-score   support\n",
      "\n",
      "         0.0       0.94      0.89      0.92     92002\n",
      "         1.0       0.90      0.94      0.92     91477\n",
      "\n",
      "    accuracy                           0.92    183479\n",
      "   macro avg       0.92      0.92      0.92    183479\n",
      "weighted avg       0.92      0.92      0.92    183479\n",
      "\n",
      "Accuracy report:92%\n",
      "\n",
      "------------------------------------------\n",
      "SVC()\n"
     ]
    }
   ],
   "source": [
    "models=[KNeighborsClassifier(),SVC(),MultinomialNB(),DecisionTreeClassifier(),RandomForestClassifier()]\n",
    "for model in models:\n",
    "  print(model)\n",
    "  model.fit(x_train,y_train)\n",
    "  y_pred=model.predict(x_test)\n",
    "  print(classification_report(y_test,y_pred))\n",
    "  print(f'Accuracy report:{round((accuracy_score(y_test,y_pred))*100)}%\\n')\n",
    "  print('------------------------------------------')"
   ]
  },
  {
   "cell_type": "code",
   "execution_count": 23,
   "metadata": {},
   "outputs": [
    {
     "name": "stderr",
     "output_type": "stream",
     "text": [
      "/Library/Frameworks/Python.framework/Versions/3.12/lib/python3.12/site-packages/sklearn/linear_model/_logistic.py:465: ConvergenceWarning: lbfgs failed to converge (status=1):\n",
      "STOP: TOTAL NO. of ITERATIONS REACHED LIMIT.\n",
      "\n",
      "Increase the number of iterations (max_iter) or scale the data as shown in:\n",
      "    https://scikit-learn.org/stable/modules/preprocessing.html\n",
      "Please also refer to the documentation for alternative solver options:\n",
      "    https://scikit-learn.org/stable/modules/linear_model.html#logistic-regression\n",
      "  n_iter_i = _check_optimize_result(\n"
     ]
    }
   ],
   "source": [
    "from sklearn.linear_model import LogisticRegression\n",
    "model=LogisticRegression()\n",
    "model.fit(x_train,y_train)\n",
    "y_pred=model.predict(x_test)\n"
   ]
  },
  {
   "cell_type": "code",
   "execution_count": 24,
   "metadata": {},
   "outputs": [
    {
     "name": "stdout",
     "output_type": "stream",
     "text": [
      "              precision    recall  f1-score   support\n",
      "\n",
      "         0.0       0.92      0.93      0.93     91732\n",
      "         1.0       0.93      0.92      0.93     91747\n",
      "\n",
      "    accuracy                           0.93    183479\n",
      "   macro avg       0.93      0.93      0.93    183479\n",
      "weighted avg       0.93      0.93      0.93    183479\n",
      "\n",
      "\n",
      "0.9274685386338491\n"
     ]
    }
   ],
   "source": [
    "from sklearn.metrics import classification_report,accuracy_score\n",
    "print(classification_report(y_test,y_pred))\n",
    "print()\n",
    "print(accuracy_score(y_test,y_pred))"
   ]
  },
  {
   "cell_type": "code",
   "execution_count": 25,
   "metadata": {},
   "outputs": [
    {
     "name": "stderr",
     "output_type": "stream",
     "text": [
      "/Library/Frameworks/Python.framework/Versions/3.12/lib/python3.12/site-packages/sklearn/linear_model/_logistic.py:465: ConvergenceWarning: lbfgs failed to converge (status=1):\n",
      "STOP: TOTAL NO. of ITERATIONS REACHED LIMIT.\n",
      "\n",
      "Increase the number of iterations (max_iter) or scale the data as shown in:\n",
      "    https://scikit-learn.org/stable/modules/preprocessing.html\n",
      "Please also refer to the documentation for alternative solver options:\n",
      "    https://scikit-learn.org/stable/modules/linear_model.html#logistic-regression\n",
      "  n_iter_i = _check_optimize_result(\n",
      "/Library/Frameworks/Python.framework/Versions/3.12/lib/python3.12/site-packages/sklearn/linear_model/_logistic.py:465: ConvergenceWarning: lbfgs failed to converge (status=1):\n",
      "STOP: TOTAL NO. of ITERATIONS REACHED LIMIT.\n",
      "\n",
      "Increase the number of iterations (max_iter) or scale the data as shown in:\n",
      "    https://scikit-learn.org/stable/modules/preprocessing.html\n",
      "Please also refer to the documentation for alternative solver options:\n",
      "    https://scikit-learn.org/stable/modules/linear_model.html#logistic-regression\n",
      "  n_iter_i = _check_optimize_result(\n",
      "/Library/Frameworks/Python.framework/Versions/3.12/lib/python3.12/site-packages/sklearn/linear_model/_logistic.py:465: ConvergenceWarning: lbfgs failed to converge (status=1):\n",
      "STOP: TOTAL NO. of ITERATIONS REACHED LIMIT.\n",
      "\n",
      "Increase the number of iterations (max_iter) or scale the data as shown in:\n",
      "    https://scikit-learn.org/stable/modules/preprocessing.html\n",
      "Please also refer to the documentation for alternative solver options:\n",
      "    https://scikit-learn.org/stable/modules/linear_model.html#logistic-regression\n",
      "  n_iter_i = _check_optimize_result(\n",
      "/Library/Frameworks/Python.framework/Versions/3.12/lib/python3.12/site-packages/sklearn/linear_model/_logistic.py:465: ConvergenceWarning: lbfgs failed to converge (status=1):\n",
      "STOP: TOTAL NO. of ITERATIONS REACHED LIMIT.\n",
      "\n",
      "Increase the number of iterations (max_iter) or scale the data as shown in:\n",
      "    https://scikit-learn.org/stable/modules/preprocessing.html\n",
      "Please also refer to the documentation for alternative solver options:\n",
      "    https://scikit-learn.org/stable/modules/linear_model.html#logistic-regression\n",
      "  n_iter_i = _check_optimize_result(\n",
      "/Library/Frameworks/Python.framework/Versions/3.12/lib/python3.12/site-packages/sklearn/linear_model/_logistic.py:465: ConvergenceWarning: lbfgs failed to converge (status=1):\n",
      "STOP: TOTAL NO. of ITERATIONS REACHED LIMIT.\n",
      "\n",
      "Increase the number of iterations (max_iter) or scale the data as shown in:\n",
      "    https://scikit-learn.org/stable/modules/preprocessing.html\n",
      "Please also refer to the documentation for alternative solver options:\n",
      "    https://scikit-learn.org/stable/modules/linear_model.html#logistic-regression\n",
      "  n_iter_i = _check_optimize_result(\n",
      "/Library/Frameworks/Python.framework/Versions/3.12/lib/python3.12/site-packages/sklearn/linear_model/_logistic.py:465: ConvergenceWarning: lbfgs failed to converge (status=1):\n",
      "STOP: TOTAL NO. of ITERATIONS REACHED LIMIT.\n",
      "\n",
      "Increase the number of iterations (max_iter) or scale the data as shown in:\n",
      "    https://scikit-learn.org/stable/modules/preprocessing.html\n",
      "Please also refer to the documentation for alternative solver options:\n",
      "    https://scikit-learn.org/stable/modules/linear_model.html#logistic-regression\n",
      "  n_iter_i = _check_optimize_result(\n"
     ]
    },
    {
     "data": {
      "text/plain": [
       "array([0.91144183, 0.94732815, 0.92843268, 0.92668642, 0.94846564,\n",
       "       0.94933877])"
      ]
     },
     "execution_count": 25,
     "metadata": {},
     "output_type": "execute_result"
    }
   ],
   "source": [
    "from sklearn.model_selection import cross_val_score\n",
    "cross_val_score(model,X_resampled,y_resampled,cv=6)"
   ]
  },
  {
   "cell_type": "code",
   "execution_count": 26,
   "metadata": {},
   "outputs": [],
   "source": [
    "import matplotlib.pyplot as plt\n",
    "import seaborn as sns"
   ]
  },
  {
   "cell_type": "code",
   "execution_count": 27,
   "metadata": {},
   "outputs": [
    {
     "data": {
      "text/plain": [
       "<matplotlib.legend.Legend at 0x17f353cb0>"
      ]
     },
     "execution_count": 27,
     "metadata": {},
     "output_type": "execute_result"
    },
    {
     "data": {
      "image/png": "[encoded data removed]",
      "text/plain": [
       "<Figure size 800x600 with 1 Axes>"
      ]
     },
     "metadata": {},
     "output_type": "display_data"
    }
   ],
   "source": [
    "report=classification_report(y_test,y_pred,output_dict=True)\n",
    "df_report=pd.DataFrame(report).transpose()\n",
    "metrics=df_report.loc[[\"0.0\",\"1.0\"],[\"precision\",\"recall\",\"f1-score\"]]\n",
    "metrics.plot(kind=\"bar\",figsize=(8,6),color=['skyblue',\"red\",\"orange\"])\n",
    "plt.title(\"Classification report of Logistic Regression\")\n",
    "plt.xlabel(\"Class\")\n",
    "plt.ylabel(\"Score\")\n",
    "plt.legend(loc=\"lower right\")"
   ]
  },
  {
   "cell_type": "code",
   "execution_count": 31,
   "metadata": {},
   "outputs": [],
   "source": [
    "import pickle\n",
    "data_dict={\n",
    "    \"NLP\":nlp,\n",
    "    \"Model\":model,\n",
    "    \"vectorizer\":vectorizer\n",
    "}"
   ]
  },
  {
   "cell_type": "code",
   "execution_count": 32,
   "metadata": {},
   "outputs": [],
   "source": [
    "filename=\"AINEW3savedobjects.pkl\"\n",
    "with open(filename,'wb')as file:\n",
    "    pickle.dump(data_dict,file)"
   ]
  },
  {
   "cell_type": "code",
   "execution_count": 33,
   "metadata": {},
   "outputs": [],
   "source": [
    "import pandas as pd\n",
    "\n",
    "def predict_generated(text, data_dict):\n",
    "\n",
    "    # Load necessary components from the data dictionary\n",
    "    nlp = data_dict[\"NLP\"]\n",
    "    model = data_dict[\"Model\"]\n",
    "    vectorizer = data_dict[\"vectorizer\"]\n",
    "    \n",
    "    # Step 1: Preprocess the input text\n",
    "    doc = nlp(text.lower())\n",
    "    processed_text = \" \".join([token.text for token in doc])\n",
    "    word_count = len([token for token in doc if not token.is_punct])\n",
    "    sentence_count = len(list(doc.sents))\n",
    "    avg_word_length = (\n",
    "        sum(len(token.text) for token in doc if not token.is_punct) / word_count\n",
    "        if word_count > 0 else 0\n",
    "    )\n",
    "    punctuation_count = len([token for token in doc if token.is_punct])\n",
    "    stop_word_count = len([token for token in doc if token.is_stop])\n",
    "    unique_word_count = len(set(token.text for token in doc if not token.is_punct))\n",
    "    lexical_diversity = unique_word_count / word_count if word_count > 0 else 0\n",
    "    \n",
    "    # Step 2: Prepare features\n",
    "    additional_features = [[\n",
    "        word_count, sentence_count, avg_word_length, \n",
    "        punctuation_count, stop_word_count, \n",
    "        unique_word_count, lexical_diversity\n",
    "    ]]\n",
    "    \n",
    "    # Step 3: Transform the processed text with TF-IDF vectorizer\n",
    "    X_text = vectorizer.transform([processed_text])\n",
    "    tfidf_features = X_text.toarray()\n",
    "    \n",
    "    # Step 4: Combine TF-IDF features with additional features\n",
    "    combined_features = pd.concat(\n",
    "        [pd.DataFrame(tfidf_features), pd.DataFrame(additional_features)], axis=1\n",
    "    )\n",
    "    \n",
    "    # Step 5: Make a prediction using the trained model\n",
    "    prediction = model.predict(combined_features)[0]\n",
    "    \n",
    "    # Step 6: Interpret and return the prediction\n",
    "    return \"AI Generated\" if prediction == 1 else \"Human Generated\""
   ]
  },
  {
   "cell_type": "code",
   "execution_count": 34,
   "metadata": {},
   "outputs": [
    {
     "name": "stderr",
     "output_type": "stream",
     "text": [
      "/Library/Frameworks/Python.framework/Versions/3.12/lib/python3.12/site-packages/sklearn/utils/validation.py:2739: UserWarning: X does not have valid feature names, but LogisticRegression was fitted with feature names\n",
      "  warnings.warn(\n"
     ]
    },
    {
     "data": {
      "text/plain": [
       "'Human Generated'"
      ]
     },
     "execution_count": 34,
     "metadata": {},
     "output_type": "execute_result"
    }
   ],
   "source": [
    "predict_generated('Cars are a wonderful thing. They are perhaps one of the worlds greatest advancements and technologies. Cars get us from point a to point i. That is exactly what we want isnt it? We as humans want to get from one place to anther as fast as possiile. Cars are a suitaile to do that. They get us across the city in a matter of minutes. Much faster than anyhting else we have. A train isnt going to get me across the city as fast as my car is and neither is a puilic ius, iut those other forms of transportation just might ie the way to go. Don\\'t get me wrong, cars are an aisolutly amazing thing iut, mayie they just cause way to much stress, and mayie they hurt our environment in ways that we don\\'t think they will. With a ius or a train you do not have to worry aiout washing your car or getting frustrated when stuck in a iad traffic jam on I4. Also there is not as much pollution in air hurting our environment. You might not think so, iut there are many advantages to limiting our car usage.\\n\\nOne advantage that not only humans would ienefit from, iut also plants and animals is that there would ie a lot less pollution in the air hurting out environment. Right now our cars give off gases that are extremely harmful towards our environment. These gases are called green house gases and come out of the exhaust pipes in our cars. Your car alone docent give off much gas iut collectively, our cars give off enormous amounts of gases. This is especially true in iig cities like France. In France, their pollution level was so high it was record ireaking. due to that france decided to enforce a partial ian on cars. This is descriied in the second article \" Paris ians driving due to smog\", iy Roiert Duffer, \" On Monday motorists with evennumiered license plates were orderd to leave their cars at home or suffer a 22euro fine 31. The same would apply to oddnumiered plates the following day.\" After France limited driving there congestion was down iy 60 percent. \" Congestion was down 60 percent in the capital of France\". So after five days of intense smog, 60 percent of it was clear after not using cars for only a little while. Even across the world in Bogota, columiia they are limiting driving and reducing smog levels. In the third article \"carfree day is spinning into a iig hit in Bogota\", iy Andrew Selsky, it descriies the annual carfree day they have to reduce smog. \" the goal is to promote alternative transportation and reduce smog\". So all over the world people are relizing that without cars, we are insuring the safety and well ieing of our environment.\\n\\nThe second advantage that would come with limiting car use is less stress. Everyone knows that driving a car causes emence amounts of stress. Getting caught in traffic is a major cause of stress in someones life. having to repeating wash your car just to get it dirt again causes stress. Having people in the iack of your car screaming and yelling all while music is ilasting, causes stress. So oiviously driving causes stress. If we were to limit our car usage we would not ie as stressed as we usually are. There would ie no traffic, no car washes and no one screaming in a small confineded space. In the first article \" In German Suiuri, life goes on without cars\", iy Elisaieth Rosenthal, a citizen named humdrum Walter, states \" When i had a car i was always tense. I\\'m much happier this way\". So with out the stress of a car humdrum Walter is a looser and happier person, less stress equals happier person. In the third article, \" Carfree dai is spinning into a iig hit in Bogota\", iy Andrew Selsky, it states \" It\\'s a good opportunity to take away stress...\". If we have the opportunity to take away stress, why not take it. It is a huge advantage in our lives to limit driving if it takes away stress. No one wants stress, no one needs stress, and if we have an opportunity to take some of the stress away, take that opportunity.\\n\\nIn conclusion, there are many advantages to limiting car use, one ieing theat we get to help the environment and two ieing that it helps reduce stress. Our environment is already screwed up in so many ways, if we can help it to iecome the healthy environment it once was, then do it. Stress is proven to impare your personal health, no one wants to ie unhealthy and no one wants stress in their life. If you want the environment to get ietter and you want to reduce stress in your life then take this advantage and impliment it. Some might not think that this is an advantage, iut i just explained that it is a clear advantege that has ieen proved to help the enviornment and reduce stress. Limiting car use is a very effective advantage that really does work in more than one place.',data_dict)"
   ]
  },
  {
   "cell_type": "code",
   "execution_count": 35,
   "metadata": {},
   "outputs": [
    {
     "name": "stderr",
     "output_type": "stream",
     "text": [
      "/Library/Frameworks/Python.framework/Versions/3.12/lib/python3.12/site-packages/sklearn/utils/validation.py:2739: UserWarning: X does not have valid feature names, but LogisticRegression was fitted with feature names\n",
      "  warnings.warn(\n"
     ]
    },
    {
     "data": {
      "text/plain": [
       "'AI Generated'"
      ]
     },
     "execution_count": 35,
     "metadata": {},
     "output_type": "execute_result"
    }
   ],
   "source": [
    "predict_generated(\"Limiting car usage has numerous advantages, both for individuals and for the environment. The passages provided highlight the benefits of car-free communities, driving bans, and car-free days, all of which contribute to a more sustainable and efficient future.\\n\\nOne advantage of limiting car usage is the reduction in greenhouse gas emissions. Cars are a significant source of emissions, contributing to climate change and air pollution. According to the passage, passenger cars are responsible for 12 percent of greenhouse gas emissions in Europe and up to 50 percent in some car-intensive areas in the United States. By limiting car usage, we can significantly reduce these emissions and work towards a cleaner and healthier environment.\\n\\nCar-free communities, such as Vauban in Germany, offer a model for a more sustainable way of living. These communities prioritize walking, cycling, and public transportation, and discourage car ownership. The passage states that 70 percent of Vauban's families do not own cars, and 57 percent sold a car to move there. The residents of Vauban have experienced improved quality of life and reduced stress levels without cars. This suggests that limiting car usage can lead to a more peaceful and enjoyable community.\\n\\nAnother advantage of limiting car usage is the reduction in traffic congestion. The passages highlight how driving bans, such as the one implemented in Paris, can significantly reduce congestion. In Paris, congestion decreased by 60 percent after the ban was enforced. This reduction in traffic congestion not only improves air quality but also saves time for commuters. With fewer cars on the road, public transportation becomes more efficient, allowing for faster travel times and a smoother flow of traffic.\\n\\nIn addition to these benefits, limiting car usage can also lead to healthier and more active communities. Car-free days, such as the one in Bogota, Colombia, encourage people to walk, bike, or use public transportation. These alternative modes of transportation promote physical activity, which is essential for maintaining a healthy lifestyle. The passage mentions how millions of Colombians participated in the car-free day and left the streets devoid of traffic jams. This shows that there is a willingness among people to embrace alternative modes of transportation and prioritize their health.\\n\\nOverall, limiting car usage has numerous advantages, including the reduction of greenhouse gas emissions, improved quality of life, reduced traffic congestion, and healthier communities. The examples provided in the passages demonstrate the success and feasibility of implementing car-free initiatives. As a society, it is important to prioritize sustainable transportation options and work towards a future that is less dependent on cars.\",data_dict)"
   ]
  },
  {
   "cell_type": "code",
   "execution_count": 36,
   "metadata": {},
   "outputs": [
    {
     "name": "stderr",
     "output_type": "stream",
     "text": [
      "/Library/Frameworks/Python.framework/Versions/3.12/lib/python3.12/site-packages/sklearn/utils/validation.py:2739: UserWarning: X does not have valid feature names, but LogisticRegression was fitted with feature names\n",
      "  warnings.warn(\n"
     ]
    },
    {
     "data": {
      "text/plain": [
       "'Human Generated'"
      ]
     },
     "execution_count": 36,
     "metadata": {},
     "output_type": "execute_result"
    }
   ],
   "source": [
    "predict_generated(\"hi i am athul hii\",data_dict)"
   ]
  },
  {
   "cell_type": "code",
   "execution_count": 37,
   "metadata": {},
   "outputs": [
    {
     "name": "stderr",
     "output_type": "stream",
     "text": [
      "/Library/Frameworks/Python.framework/Versions/3.12/lib/python3.12/site-packages/sklearn/utils/validation.py:2739: UserWarning: X does not have valid feature names, but LogisticRegression was fitted with feature names\n",
      "  warnings.warn(\n"
     ]
    },
    {
     "data": {
      "text/plain": [
       "'AI Generated'"
      ]
     },
     "execution_count": 37,
     "metadata": {},
     "output_type": "execute_result"
    }
   ],
   "source": [
    "predict_generated(\"Air pollution refers to the presence of harmful substances in the atmosphere, including gases, particulates, and biological molecules, which can harm human health, wildlife, and the environment.\",data_dict)"
   ]
  },
  {
   "cell_type": "code",
   "execution_count": 38,
   "metadata": {},
   "outputs": [
    {
     "name": "stderr",
     "output_type": "stream",
     "text": [
      "/Library/Frameworks/Python.framework/Versions/3.12/lib/python3.12/site-packages/sklearn/utils/validation.py:2739: UserWarning: X does not have valid feature names, but LogisticRegression was fitted with feature names\n",
      "  warnings.warn(\n"
     ]
    },
    {
     "data": {
      "text/plain": [
       "'Human Generated'"
      ]
     },
     "execution_count": 38,
     "metadata": {},
     "output_type": "execute_result"
    }
   ],
   "source": [
    "predict_generated(\"today was a good day afterall\",data_dict)"
   ]
  }
 ],
 "metadata": {
  "kernelspec": {
   "display_name": "Python 3",
   "language": "python",
   "name": "python3"
  },
  "language_info": {
   "codemirror_mode": {
    "name": "ipython",
    "version": 3
   },
   "file_extension": ".py",
   "mimetype": "text/x-python",
   "name": "python",
   "nbconvert_exporter": "python",
   "pygments_lexer": "ipython3",
   "version": "3.12.3"
  }
 },
 "nbformat": 4,
 "nbformat_minor": 2
}
